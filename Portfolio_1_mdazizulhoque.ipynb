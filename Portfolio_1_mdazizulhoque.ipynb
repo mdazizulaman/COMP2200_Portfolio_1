{
 "cells": [
  {
   "cell_type": "markdown",
   "id": "71efeca0",
   "metadata": {},
   "source": [
    "### Analysis of an E-commerce Dataset\n",
    "\n",
    "We have been provided with a combined e-commerce dataset. In this dataset, each user has the ability to post a rating and review for the products they purchased. Additionally, other users can evaluate the initial rating and review by expressing their trust or distrust.\n",
    "\n",
    "This dataset includes a wealth of information for each user. Details such as their profile, ID, gender, city of birth, product ratings (on a scale of 1-5), reviews, and the prices of the products they purchased are all included. Moreover, for each product rating, we have information about the product name, ID, price, and category, the rating score, the timestamp of the rating and review, and the average helpfulness of the rating given by others (on a scale of 1-5).\n",
    "\n",
    "The dataset is from several data sources, and we have merged all the data into a single CSV file named 'A Combined E-commerce Dataset.csv'. The structure of this dataset is represented in the header shown below.\n",
    "\n",
    "| userId | gender | rating | review| item | category | helpfulness | timestamp | item_id | item_price | user_city|\n",
    "\n",
    "    | ---- | ---- | ---- | ---- | ---- | ---- | ---- | ---- | ---- |  ---- |  ---- |  \n",
    "    \n",
    "#### Description of Fields\n",
    "\n",
    "* __userId__ - the user's id\n",
    "* __gender__ - the user's gender\n",
    "* __rating__ - the user's rating towards the item\n",
    "* __review__ - the user's review towards the item\n",
    "* __item__ - the item's name\n",
    "* __category__ - the category of the item\n",
    "* __helpfulness__ - the average helpfulness of this rating\n",
    "* __timestamp__ - the timestamp when the rating is created\n",
    "* __item_id__ - the item's id\n",
    "* __item_price__ - the item's price\n",
    "* __user_city__ - the city of user's birth\n",
    "\n",
    "Note that, a user may rate multiple items and an item may receive ratings and reviews from multiple users. The \"helpfulness\" is an average value based on all the helpfulness values given by others.\n",
    "\n",
    "There are four questions to explore with the data as shown below.\n",
    "\n",
    "\n",
    "\n",
    "<img src=\"data-relation.png\" align=\"left\" width=\"400\"/>\n"
   ]
  },
  {
   "cell_type": "markdown",
   "id": "6e348d3e",
   "metadata": {},
   "source": [
    "Name: MD AZIZUL HOQUE\n",
    "ID : 46769579"
   ]
  },
  {
   "cell_type": "code",
   "execution_count": 5,
   "id": "a9c22040",
   "metadata": {},
   "outputs": [],
   "source": [
    "#Importing all the libraries\n",
    "import pandas as pd\n",
    "import numpy as np\n",
    "import matplotlib.pyplot as plt\n",
    "%matplotlib inline\n",
    "import seaborn as sns"
   ]
  },
  {
   "cell_type": "code",
   "execution_count": 6,
   "id": "5efe2433",
   "metadata": {},
   "outputs": [
    {
     "data": {
      "text/html": [
       "<div>\n",
       "<style scoped>\n",
       "    .dataframe tbody tr th:only-of-type {\n",
       "        vertical-align: middle;\n",
       "    }\n",
       "\n",
       "    .dataframe tbody tr th {\n",
       "        vertical-align: top;\n",
       "    }\n",
       "\n",
       "    .dataframe thead th {\n",
       "        text-align: right;\n",
       "    }\n",
       "</style>\n",
       "<table border=\"1\" class=\"dataframe\">\n",
       "  <thead>\n",
       "    <tr style=\"text-align: right;\">\n",
       "      <th></th>\n",
       "      <th>userId</th>\n",
       "      <th>timestamp</th>\n",
       "      <th>review</th>\n",
       "      <th>item</th>\n",
       "      <th>rating</th>\n",
       "      <th>helpfulness</th>\n",
       "      <th>gender</th>\n",
       "      <th>category</th>\n",
       "      <th>item_id</th>\n",
       "      <th>item_price</th>\n",
       "      <th>user_city</th>\n",
       "    </tr>\n",
       "  </thead>\n",
       "  <tbody>\n",
       "    <tr>\n",
       "      <th>0</th>\n",
       "      <td>4051</td>\n",
       "      <td>12807</td>\n",
       "      <td>Great job for what it is!</td>\n",
       "      <td>eBay</td>\n",
       "      <td>5.0</td>\n",
       "      <td>2.0</td>\n",
       "      <td>F</td>\n",
       "      <td>Online Stores &amp; Services</td>\n",
       "      <td>88</td>\n",
       "      <td>149.00</td>\n",
       "      <td>39</td>\n",
       "    </tr>\n",
       "    <tr>\n",
       "      <th>1</th>\n",
       "      <td>4052</td>\n",
       "      <td>122899</td>\n",
       "      <td>Free Access Worth your Time</td>\n",
       "      <td>NetZero</td>\n",
       "      <td>5.0</td>\n",
       "      <td>0.0</td>\n",
       "      <td>F</td>\n",
       "      <td>Online Stores &amp; Services</td>\n",
       "      <td>46</td>\n",
       "      <td>53.00</td>\n",
       "      <td>39</td>\n",
       "    </tr>\n",
       "    <tr>\n",
       "      <th>2</th>\n",
       "      <td>33</td>\n",
       "      <td>12700</td>\n",
       "      <td>AOL..I love you!!!!!!!!!!!!</td>\n",
       "      <td>AOL (America Online)</td>\n",
       "      <td>5.0</td>\n",
       "      <td>4.0</td>\n",
       "      <td>F</td>\n",
       "      <td>Online Stores &amp; Services</td>\n",
       "      <td>0</td>\n",
       "      <td>145.84</td>\n",
       "      <td>31</td>\n",
       "    </tr>\n",
       "    <tr>\n",
       "      <th>3</th>\n",
       "      <td>33</td>\n",
       "      <td>21000</td>\n",
       "      <td>EBAY!!!  I LOVE YOU!!!! :-)*</td>\n",
       "      <td>eBay</td>\n",
       "      <td>5.0</td>\n",
       "      <td>4.0</td>\n",
       "      <td>F</td>\n",
       "      <td>Online Stores &amp; Services</td>\n",
       "      <td>88</td>\n",
       "      <td>149.00</td>\n",
       "      <td>31</td>\n",
       "    </tr>\n",
       "    <tr>\n",
       "      <th>4</th>\n",
       "      <td>33</td>\n",
       "      <td>22300</td>\n",
       "      <td>Blair Witch...Oh Come On.......</td>\n",
       "      <td>Blair Witch Project</td>\n",
       "      <td>1.0</td>\n",
       "      <td>4.0</td>\n",
       "      <td>F</td>\n",
       "      <td>Movies</td>\n",
       "      <td>12</td>\n",
       "      <td>44.00</td>\n",
       "      <td>31</td>\n",
       "    </tr>\n",
       "    <tr>\n",
       "      <th>...</th>\n",
       "      <td>...</td>\n",
       "      <td>...</td>\n",
       "      <td>...</td>\n",
       "      <td>...</td>\n",
       "      <td>...</td>\n",
       "      <td>...</td>\n",
       "      <td>...</td>\n",
       "      <td>...</td>\n",
       "      <td>...</td>\n",
       "      <td>...</td>\n",
       "      <td>...</td>\n",
       "    </tr>\n",
       "    <tr>\n",
       "      <th>19995</th>\n",
       "      <td>10805</td>\n",
       "      <td>50600</td>\n",
       "      <td>The Upper Class Fast Food</td>\n",
       "      <td>Wendy's</td>\n",
       "      <td>2.0</td>\n",
       "      <td>3.0</td>\n",
       "      <td>F</td>\n",
       "      <td>Restaurants &amp; Gourmet</td>\n",
       "      <td>84</td>\n",
       "      <td>69.00</td>\n",
       "      <td>18</td>\n",
       "    </tr>\n",
       "    <tr>\n",
       "      <th>19996</th>\n",
       "      <td>10806</td>\n",
       "      <td>82201</td>\n",
       "      <td>What more can you ask for????</td>\n",
       "      <td>Olive Garden</td>\n",
       "      <td>4.0</td>\n",
       "      <td>0.0</td>\n",
       "      <td>M</td>\n",
       "      <td>Restaurants &amp; Gourmet</td>\n",
       "      <td>49</td>\n",
       "      <td>32.00</td>\n",
       "      <td>28</td>\n",
       "    </tr>\n",
       "    <tr>\n",
       "      <th>19997</th>\n",
       "      <td>10806</td>\n",
       "      <td>82201</td>\n",
       "      <td>Excellent steak for a good price</td>\n",
       "      <td>Outback Steakhouse</td>\n",
       "      <td>4.0</td>\n",
       "      <td>3.0</td>\n",
       "      <td>M</td>\n",
       "      <td>Restaurants &amp; Gourmet</td>\n",
       "      <td>50</td>\n",
       "      <td>25.00</td>\n",
       "      <td>28</td>\n",
       "    </tr>\n",
       "    <tr>\n",
       "      <th>19998</th>\n",
       "      <td>10807</td>\n",
       "      <td>31504</td>\n",
       "      <td>Different story world</td>\n",
       "      <td>J. K. Rowling - Harry Potter and the Sorcerer'...</td>\n",
       "      <td>4.0</td>\n",
       "      <td>0.0</td>\n",
       "      <td>M</td>\n",
       "      <td>Books</td>\n",
       "      <td>36</td>\n",
       "      <td>96.00</td>\n",
       "      <td>27</td>\n",
       "    </tr>\n",
       "    <tr>\n",
       "      <th>19999</th>\n",
       "      <td>10808</td>\n",
       "      <td>10200</td>\n",
       "      <td>Boldly Displaying Sigourneys Cleavage ..</td>\n",
       "      <td>Galaxy Quest</td>\n",
       "      <td>4.0</td>\n",
       "      <td>0.0</td>\n",
       "      <td>M</td>\n",
       "      <td>Movies</td>\n",
       "      <td>29</td>\n",
       "      <td>67.00</td>\n",
       "      <td>11</td>\n",
       "    </tr>\n",
       "  </tbody>\n",
       "</table>\n",
       "<p>20000 rows × 11 columns</p>\n",
       "</div>"
      ],
      "text/plain": [
       "       userId  timestamp                                    review  \\\n",
       "0        4051      12807                 Great job for what it is!   \n",
       "1        4052     122899               Free Access Worth your Time   \n",
       "2          33      12700             AOL..I love you!!!!!!!!!!!!     \n",
       "3          33      21000              EBAY!!!  I LOVE YOU!!!! :-)*   \n",
       "4          33      22300           Blair Witch...Oh Come On.......   \n",
       "...       ...        ...                                       ...   \n",
       "19995   10805      50600                 The Upper Class Fast Food   \n",
       "19996   10806      82201             What more can you ask for????   \n",
       "19997   10806      82201          Excellent steak for a good price   \n",
       "19998   10807      31504                     Different story world   \n",
       "19999   10808      10200  Boldly Displaying Sigourneys Cleavage ..   \n",
       "\n",
       "                                                    item  rating  helpfulness  \\\n",
       "0                                                   eBay     5.0          2.0   \n",
       "1                                                NetZero     5.0          0.0   \n",
       "2                                   AOL (America Online)     5.0          4.0   \n",
       "3                                                   eBay     5.0          4.0   \n",
       "4                                    Blair Witch Project     1.0          4.0   \n",
       "...                                                  ...     ...          ...   \n",
       "19995                                            Wendy's     2.0          3.0   \n",
       "19996                                       Olive Garden     4.0          0.0   \n",
       "19997                                 Outback Steakhouse     4.0          3.0   \n",
       "19998  J. K. Rowling - Harry Potter and the Sorcerer'...     4.0          0.0   \n",
       "19999                                       Galaxy Quest     4.0          0.0   \n",
       "\n",
       "      gender                  category  item_id  item_price  user_city  \n",
       "0          F  Online Stores & Services       88      149.00         39  \n",
       "1          F  Online Stores & Services       46       53.00         39  \n",
       "2          F  Online Stores & Services        0      145.84         31  \n",
       "3          F  Online Stores & Services       88      149.00         31  \n",
       "4          F                    Movies       12       44.00         31  \n",
       "...      ...                       ...      ...         ...        ...  \n",
       "19995      F     Restaurants & Gourmet       84       69.00         18  \n",
       "19996      M     Restaurants & Gourmet       49       32.00         28  \n",
       "19997      M     Restaurants & Gourmet       50       25.00         28  \n",
       "19998      M                     Books       36       96.00         27  \n",
       "19999      M                    Movies       29       67.00         11  \n",
       "\n",
       "[20000 rows x 11 columns]"
      ]
     },
     "execution_count": 6,
     "metadata": {},
     "output_type": "execute_result"
    }
   ],
   "source": [
    "#Reading csv File\n",
    "ecom = pd.read_csv('The_E_commerce_Dataset.csv')\n",
    "ecom"
   ]
  },
  {
   "cell_type": "code",
   "execution_count": 7,
   "id": "66673d5f",
   "metadata": {},
   "outputs": [
    {
     "data": {
      "text/html": [
       "<div>\n",
       "<style scoped>\n",
       "    .dataframe tbody tr th:only-of-type {\n",
       "        vertical-align: middle;\n",
       "    }\n",
       "\n",
       "    .dataframe tbody tr th {\n",
       "        vertical-align: top;\n",
       "    }\n",
       "\n",
       "    .dataframe thead th {\n",
       "        text-align: right;\n",
       "    }\n",
       "</style>\n",
       "<table border=\"1\" class=\"dataframe\">\n",
       "  <thead>\n",
       "    <tr style=\"text-align: right;\">\n",
       "      <th></th>\n",
       "      <th>userId</th>\n",
       "      <th>timestamp</th>\n",
       "      <th>rating</th>\n",
       "      <th>helpfulness</th>\n",
       "      <th>item_id</th>\n",
       "      <th>item_price</th>\n",
       "      <th>user_city</th>\n",
       "    </tr>\n",
       "  </thead>\n",
       "  <tbody>\n",
       "    <tr>\n",
       "      <th>count</th>\n",
       "      <td>20000.000000</td>\n",
       "      <td>20000.000000</td>\n",
       "      <td>19983.000000</td>\n",
       "      <td>19978.000000</td>\n",
       "      <td>20000.000000</td>\n",
       "      <td>20000.000000</td>\n",
       "      <td>20000.000000</td>\n",
       "    </tr>\n",
       "    <tr>\n",
       "      <th>mean</th>\n",
       "      <td>5500.909450</td>\n",
       "      <td>59025.503550</td>\n",
       "      <td>3.701847</td>\n",
       "      <td>2.596306</td>\n",
       "      <td>41.789950</td>\n",
       "      <td>82.180847</td>\n",
       "      <td>19.393200</td>\n",
       "    </tr>\n",
       "    <tr>\n",
       "      <th>std</th>\n",
       "      <td>3343.265765</td>\n",
       "      <td>37967.900334</td>\n",
       "      <td>1.404619</td>\n",
       "      <td>1.750681</td>\n",
       "      <td>27.271524</td>\n",
       "      <td>42.242699</td>\n",
       "      <td>11.626928</td>\n",
       "    </tr>\n",
       "    <tr>\n",
       "      <th>min</th>\n",
       "      <td>0.000000</td>\n",
       "      <td>10100.000000</td>\n",
       "      <td>1.000000</td>\n",
       "      <td>0.000000</td>\n",
       "      <td>0.000000</td>\n",
       "      <td>12.000000</td>\n",
       "      <td>0.000000</td>\n",
       "    </tr>\n",
       "    <tr>\n",
       "      <th>25%</th>\n",
       "      <td>1995.750000</td>\n",
       "      <td>21500.000000</td>\n",
       "      <td>3.000000</td>\n",
       "      <td>0.000000</td>\n",
       "      <td>17.000000</td>\n",
       "      <td>48.250000</td>\n",
       "      <td>9.000000</td>\n",
       "    </tr>\n",
       "    <tr>\n",
       "      <th>50%</th>\n",
       "      <td>5898.000000</td>\n",
       "      <td>52701.000000</td>\n",
       "      <td>4.000000</td>\n",
       "      <td>4.000000</td>\n",
       "      <td>41.000000</td>\n",
       "      <td>72.000000</td>\n",
       "      <td>19.000000</td>\n",
       "    </tr>\n",
       "    <tr>\n",
       "      <th>75%</th>\n",
       "      <td>8408.250000</td>\n",
       "      <td>91600.000000</td>\n",
       "      <td>5.000000</td>\n",
       "      <td>4.000000</td>\n",
       "      <td>65.000000</td>\n",
       "      <td>126.500000</td>\n",
       "      <td>29.000000</td>\n",
       "    </tr>\n",
       "    <tr>\n",
       "      <th>max</th>\n",
       "      <td>10808.000000</td>\n",
       "      <td>123199.000000</td>\n",
       "      <td>5.000000</td>\n",
       "      <td>4.000000</td>\n",
       "      <td>88.000000</td>\n",
       "      <td>149.000000</td>\n",
       "      <td>39.000000</td>\n",
       "    </tr>\n",
       "  </tbody>\n",
       "</table>\n",
       "</div>"
      ],
      "text/plain": [
       "             userId      timestamp        rating   helpfulness       item_id  \\\n",
       "count  20000.000000   20000.000000  19983.000000  19978.000000  20000.000000   \n",
       "mean    5500.909450   59025.503550      3.701847      2.596306     41.789950   \n",
       "std     3343.265765   37967.900334      1.404619      1.750681     27.271524   \n",
       "min        0.000000   10100.000000      1.000000      0.000000      0.000000   \n",
       "25%     1995.750000   21500.000000      3.000000      0.000000     17.000000   \n",
       "50%     5898.000000   52701.000000      4.000000      4.000000     41.000000   \n",
       "75%     8408.250000   91600.000000      5.000000      4.000000     65.000000   \n",
       "max    10808.000000  123199.000000      5.000000      4.000000     88.000000   \n",
       "\n",
       "         item_price     user_city  \n",
       "count  20000.000000  20000.000000  \n",
       "mean      82.180847     19.393200  \n",
       "std       42.242699     11.626928  \n",
       "min       12.000000      0.000000  \n",
       "25%       48.250000      9.000000  \n",
       "50%       72.000000     19.000000  \n",
       "75%      126.500000     29.000000  \n",
       "max      149.000000     39.000000  "
      ]
     },
     "execution_count": 7,
     "metadata": {},
     "output_type": "execute_result"
    }
   ],
   "source": [
    "#Describing data frame\n",
    "ecom.describe()"
   ]
  },
  {
   "cell_type": "code",
   "execution_count": 8,
   "id": "988b3064",
   "metadata": {},
   "outputs": [
    {
     "data": {
      "text/html": [
       "<div>\n",
       "<style scoped>\n",
       "    .dataframe tbody tr th:only-of-type {\n",
       "        vertical-align: middle;\n",
       "    }\n",
       "\n",
       "    .dataframe tbody tr th {\n",
       "        vertical-align: top;\n",
       "    }\n",
       "\n",
       "    .dataframe thead th {\n",
       "        text-align: right;\n",
       "    }\n",
       "</style>\n",
       "<table border=\"1\" class=\"dataframe\">\n",
       "  <thead>\n",
       "    <tr style=\"text-align: right;\">\n",
       "      <th></th>\n",
       "      <th>userId</th>\n",
       "      <th>timestamp</th>\n",
       "      <th>review</th>\n",
       "      <th>item</th>\n",
       "      <th>rating</th>\n",
       "      <th>helpfulness</th>\n",
       "      <th>gender</th>\n",
       "      <th>category</th>\n",
       "      <th>item_id</th>\n",
       "      <th>item_price</th>\n",
       "      <th>user_city</th>\n",
       "    </tr>\n",
       "  </thead>\n",
       "  <tbody>\n",
       "    <tr>\n",
       "      <th>0</th>\n",
       "      <td>4051</td>\n",
       "      <td>12807</td>\n",
       "      <td>Great job for what it is!</td>\n",
       "      <td>eBay</td>\n",
       "      <td>5.0</td>\n",
       "      <td>2.0</td>\n",
       "      <td>F</td>\n",
       "      <td>Online Stores &amp; Services</td>\n",
       "      <td>88</td>\n",
       "      <td>149.00</td>\n",
       "      <td>39</td>\n",
       "    </tr>\n",
       "    <tr>\n",
       "      <th>1</th>\n",
       "      <td>4052</td>\n",
       "      <td>122899</td>\n",
       "      <td>Free Access Worth your Time</td>\n",
       "      <td>NetZero</td>\n",
       "      <td>5.0</td>\n",
       "      <td>0.0</td>\n",
       "      <td>F</td>\n",
       "      <td>Online Stores &amp; Services</td>\n",
       "      <td>46</td>\n",
       "      <td>53.00</td>\n",
       "      <td>39</td>\n",
       "    </tr>\n",
       "    <tr>\n",
       "      <th>2</th>\n",
       "      <td>33</td>\n",
       "      <td>12700</td>\n",
       "      <td>AOL..I love you!!!!!!!!!!!!</td>\n",
       "      <td>AOL (America Online)</td>\n",
       "      <td>5.0</td>\n",
       "      <td>4.0</td>\n",
       "      <td>F</td>\n",
       "      <td>Online Stores &amp; Services</td>\n",
       "      <td>0</td>\n",
       "      <td>145.84</td>\n",
       "      <td>31</td>\n",
       "    </tr>\n",
       "    <tr>\n",
       "      <th>3</th>\n",
       "      <td>33</td>\n",
       "      <td>21000</td>\n",
       "      <td>EBAY!!!  I LOVE YOU!!!! :-)*</td>\n",
       "      <td>eBay</td>\n",
       "      <td>5.0</td>\n",
       "      <td>4.0</td>\n",
       "      <td>F</td>\n",
       "      <td>Online Stores &amp; Services</td>\n",
       "      <td>88</td>\n",
       "      <td>149.00</td>\n",
       "      <td>31</td>\n",
       "    </tr>\n",
       "    <tr>\n",
       "      <th>4</th>\n",
       "      <td>33</td>\n",
       "      <td>22300</td>\n",
       "      <td>Blair Witch...Oh Come On.......</td>\n",
       "      <td>Blair Witch Project</td>\n",
       "      <td>1.0</td>\n",
       "      <td>4.0</td>\n",
       "      <td>F</td>\n",
       "      <td>Movies</td>\n",
       "      <td>12</td>\n",
       "      <td>44.00</td>\n",
       "      <td>31</td>\n",
       "    </tr>\n",
       "  </tbody>\n",
       "</table>\n",
       "</div>"
      ],
      "text/plain": [
       "   userId  timestamp                           review                  item  \\\n",
       "0    4051      12807        Great job for what it is!                  eBay   \n",
       "1    4052     122899      Free Access Worth your Time               NetZero   \n",
       "2      33      12700    AOL..I love you!!!!!!!!!!!!    AOL (America Online)   \n",
       "3      33      21000     EBAY!!!  I LOVE YOU!!!! :-)*                  eBay   \n",
       "4      33      22300  Blair Witch...Oh Come On.......   Blair Witch Project   \n",
       "\n",
       "   rating  helpfulness gender                  category  item_id  item_price  \\\n",
       "0     5.0          2.0      F  Online Stores & Services       88      149.00   \n",
       "1     5.0          0.0      F  Online Stores & Services       46       53.00   \n",
       "2     5.0          4.0      F  Online Stores & Services        0      145.84   \n",
       "3     5.0          4.0      F  Online Stores & Services       88      149.00   \n",
       "4     1.0          4.0      F                    Movies       12       44.00   \n",
       "\n",
       "   user_city  \n",
       "0         39  \n",
       "1         39  \n",
       "2         31  \n",
       "3         31  \n",
       "4         31  "
      ]
     },
     "execution_count": 8,
     "metadata": {},
     "output_type": "execute_result"
    }
   ],
   "source": [
    "#Displaying first few rows\n",
    "ecom.head()"
   ]
  },
  {
   "cell_type": "code",
   "execution_count": 9,
   "id": "c355ab65",
   "metadata": {},
   "outputs": [
    {
     "data": {
      "text/plain": [
       "Index(['userId', 'timestamp', 'review', 'item', 'rating', 'helpfulness',\n",
       "       'gender', 'category', 'item_id', 'item_price', 'user_city'],\n",
       "      dtype='object')"
      ]
     },
     "execution_count": 9,
     "metadata": {},
     "output_type": "execute_result"
    }
   ],
   "source": [
    "#Displaying list of columns\n",
    "ecom.columns"
   ]
  },
  {
   "cell_type": "code",
   "execution_count": 10,
   "id": "c0573ee1",
   "metadata": {},
   "outputs": [
    {
     "data": {
      "text/plain": [
       "(20000, 11)"
      ]
     },
     "execution_count": 10,
     "metadata": {},
     "output_type": "execute_result"
    }
   ],
   "source": [
    "#shape of data set\n",
    "ecom.shape"
   ]
  },
  {
   "cell_type": "markdown",
   "id": "b7e248f4",
   "metadata": {},
   "source": [
    " #### Q1. Remove missing data\n",
    " \n",
    "Please remove the following records in the csv file: \n",
    " \n",
    " * gender/rating/helpfulness is missing\n",
    " * review is 'none'\n",
    "\n",
    "__Display the DataFrame, counting number of Null values in each column, and print the length of the data__ before and after removing the missing data.  "
   ]
  },
  {
   "cell_type": "code",
   "execution_count": 29,
   "id": "757119ab",
   "metadata": {},
   "outputs": [
    {
     "data": {
      "text/plain": [
       "<bound method DataFrame.info of        userId  timestamp                                    review  \\\n",
       "0        4051      12807                 Great job for what it is!   \n",
       "1        4052     122899               Free Access Worth your Time   \n",
       "2          33      12700             AOL..I love you!!!!!!!!!!!!     \n",
       "3          33      21000              EBAY!!!  I LOVE YOU!!!! :-)*   \n",
       "4          33      22300           Blair Witch...Oh Come On.......   \n",
       "...       ...        ...                                       ...   \n",
       "19995   10805      50600                 The Upper Class Fast Food   \n",
       "19996   10806      82201             What more can you ask for????   \n",
       "19997   10806      82201          Excellent steak for a good price   \n",
       "19998   10807      31504                     Different story world   \n",
       "19999   10808      10200  Boldly Displaying Sigourneys Cleavage ..   \n",
       "\n",
       "                                                    item  rating  helpfulness  \\\n",
       "0                                                   eBay     5.0          2.0   \n",
       "1                                                NetZero     5.0          0.0   \n",
       "2                                   AOL (America Online)     5.0          4.0   \n",
       "3                                                   eBay     5.0          4.0   \n",
       "4                                    Blair Witch Project     1.0          4.0   \n",
       "...                                                  ...     ...          ...   \n",
       "19995                                            Wendy's     2.0          3.0   \n",
       "19996                                       Olive Garden     4.0          0.0   \n",
       "19997                                 Outback Steakhouse     4.0          3.0   \n",
       "19998  J. K. Rowling - Harry Potter and the Sorcerer'...     4.0          0.0   \n",
       "19999                                       Galaxy Quest     4.0          0.0   \n",
       "\n",
       "      gender                  category  item_id  item_price  user_city  \n",
       "0          F  Online Stores & Services       88      149.00         39  \n",
       "1          F  Online Stores & Services       46       53.00         39  \n",
       "2          F  Online Stores & Services        0      145.84         31  \n",
       "3          F  Online Stores & Services       88      149.00         31  \n",
       "4          F                    Movies       12       44.00         31  \n",
       "...      ...                       ...      ...         ...        ...  \n",
       "19995      F     Restaurants & Gourmet       84       69.00         18  \n",
       "19996      M     Restaurants & Gourmet       49       32.00         28  \n",
       "19997      M     Restaurants & Gourmet       50       25.00         28  \n",
       "19998      M                     Books       36       96.00         27  \n",
       "19999      M                    Movies       29       67.00         11  \n",
       "\n",
       "[20000 rows x 11 columns]>"
      ]
     },
     "execution_count": 29,
     "metadata": {},
     "output_type": "execute_result"
    }
   ],
   "source": [
    "#Displaying the DataFrame using info \n",
    "ecom.info"
   ]
  },
  {
   "cell_type": "code",
   "execution_count": 11,
   "id": "d3f5daeb",
   "metadata": {
    "scrolled": true
   },
   "outputs": [
    {
     "name": "stdout",
     "output_type": "stream",
     "text": [
      "20000\n"
     ]
    }
   ],
   "source": [
    "#printing the length of the data before removing the missing data.\n",
    "print(len(ecom))"
   ]
  },
  {
   "cell_type": "code",
   "execution_count": 12,
   "id": "da0a0dc6",
   "metadata": {},
   "outputs": [
    {
     "data": {
      "text/plain": [
       "userId          0\n",
       "timestamp       0\n",
       "review          0\n",
       "item            0\n",
       "rating         17\n",
       "helpfulness    22\n",
       "gender         27\n",
       "category        0\n",
       "item_id         0\n",
       "item_price      0\n",
       "user_city       0\n",
       "dtype: int64"
      ]
     },
     "execution_count": 12,
     "metadata": {},
     "output_type": "execute_result"
    }
   ],
   "source": [
    "#Find list of columns containing missing values\n",
    "ecom.isna().sum()"
   ]
  },
  {
   "cell_type": "code",
   "execution_count": 13,
   "id": "38ecd9ca",
   "metadata": {},
   "outputs": [
    {
     "data": {
      "text/html": [
       "<div>\n",
       "<style scoped>\n",
       "    .dataframe tbody tr th:only-of-type {\n",
       "        vertical-align: middle;\n",
       "    }\n",
       "\n",
       "    .dataframe tbody tr th {\n",
       "        vertical-align: top;\n",
       "    }\n",
       "\n",
       "    .dataframe thead th {\n",
       "        text-align: right;\n",
       "    }\n",
       "</style>\n",
       "<table border=\"1\" class=\"dataframe\">\n",
       "  <thead>\n",
       "    <tr style=\"text-align: right;\">\n",
       "      <th></th>\n",
       "      <th>userId</th>\n",
       "      <th>timestamp</th>\n",
       "      <th>review</th>\n",
       "      <th>item</th>\n",
       "      <th>rating</th>\n",
       "      <th>helpfulness</th>\n",
       "      <th>gender</th>\n",
       "      <th>category</th>\n",
       "      <th>item_id</th>\n",
       "      <th>item_price</th>\n",
       "      <th>user_city</th>\n",
       "    </tr>\n",
       "  </thead>\n",
       "  <tbody>\n",
       "    <tr>\n",
       "      <th>0</th>\n",
       "      <td>4051</td>\n",
       "      <td>12807</td>\n",
       "      <td>Great job for what it is!</td>\n",
       "      <td>eBay</td>\n",
       "      <td>5.0</td>\n",
       "      <td>2.0</td>\n",
       "      <td>F</td>\n",
       "      <td>Online Stores &amp; Services</td>\n",
       "      <td>88</td>\n",
       "      <td>149.00</td>\n",
       "      <td>39</td>\n",
       "    </tr>\n",
       "    <tr>\n",
       "      <th>1</th>\n",
       "      <td>4052</td>\n",
       "      <td>122899</td>\n",
       "      <td>Free Access Worth your Time</td>\n",
       "      <td>NetZero</td>\n",
       "      <td>5.0</td>\n",
       "      <td>0.0</td>\n",
       "      <td>F</td>\n",
       "      <td>Online Stores &amp; Services</td>\n",
       "      <td>46</td>\n",
       "      <td>53.00</td>\n",
       "      <td>39</td>\n",
       "    </tr>\n",
       "    <tr>\n",
       "      <th>2</th>\n",
       "      <td>33</td>\n",
       "      <td>12700</td>\n",
       "      <td>AOL..I love you!!!!!!!!!!!!</td>\n",
       "      <td>AOL (America Online)</td>\n",
       "      <td>5.0</td>\n",
       "      <td>4.0</td>\n",
       "      <td>F</td>\n",
       "      <td>Online Stores &amp; Services</td>\n",
       "      <td>0</td>\n",
       "      <td>145.84</td>\n",
       "      <td>31</td>\n",
       "    </tr>\n",
       "    <tr>\n",
       "      <th>3</th>\n",
       "      <td>33</td>\n",
       "      <td>21000</td>\n",
       "      <td>EBAY!!!  I LOVE YOU!!!! :-)*</td>\n",
       "      <td>eBay</td>\n",
       "      <td>5.0</td>\n",
       "      <td>4.0</td>\n",
       "      <td>F</td>\n",
       "      <td>Online Stores &amp; Services</td>\n",
       "      <td>88</td>\n",
       "      <td>149.00</td>\n",
       "      <td>31</td>\n",
       "    </tr>\n",
       "    <tr>\n",
       "      <th>4</th>\n",
       "      <td>33</td>\n",
       "      <td>22300</td>\n",
       "      <td>Blair Witch...Oh Come On.......</td>\n",
       "      <td>Blair Witch Project</td>\n",
       "      <td>1.0</td>\n",
       "      <td>4.0</td>\n",
       "      <td>F</td>\n",
       "      <td>Movies</td>\n",
       "      <td>12</td>\n",
       "      <td>44.00</td>\n",
       "      <td>31</td>\n",
       "    </tr>\n",
       "    <tr>\n",
       "      <th>...</th>\n",
       "      <td>...</td>\n",
       "      <td>...</td>\n",
       "      <td>...</td>\n",
       "      <td>...</td>\n",
       "      <td>...</td>\n",
       "      <td>...</td>\n",
       "      <td>...</td>\n",
       "      <td>...</td>\n",
       "      <td>...</td>\n",
       "      <td>...</td>\n",
       "      <td>...</td>\n",
       "    </tr>\n",
       "    <tr>\n",
       "      <th>19995</th>\n",
       "      <td>10805</td>\n",
       "      <td>50600</td>\n",
       "      <td>The Upper Class Fast Food</td>\n",
       "      <td>Wendy's</td>\n",
       "      <td>2.0</td>\n",
       "      <td>3.0</td>\n",
       "      <td>F</td>\n",
       "      <td>Restaurants &amp; Gourmet</td>\n",
       "      <td>84</td>\n",
       "      <td>69.00</td>\n",
       "      <td>18</td>\n",
       "    </tr>\n",
       "    <tr>\n",
       "      <th>19996</th>\n",
       "      <td>10806</td>\n",
       "      <td>82201</td>\n",
       "      <td>What more can you ask for????</td>\n",
       "      <td>Olive Garden</td>\n",
       "      <td>4.0</td>\n",
       "      <td>0.0</td>\n",
       "      <td>M</td>\n",
       "      <td>Restaurants &amp; Gourmet</td>\n",
       "      <td>49</td>\n",
       "      <td>32.00</td>\n",
       "      <td>28</td>\n",
       "    </tr>\n",
       "    <tr>\n",
       "      <th>19997</th>\n",
       "      <td>10806</td>\n",
       "      <td>82201</td>\n",
       "      <td>Excellent steak for a good price</td>\n",
       "      <td>Outback Steakhouse</td>\n",
       "      <td>4.0</td>\n",
       "      <td>3.0</td>\n",
       "      <td>M</td>\n",
       "      <td>Restaurants &amp; Gourmet</td>\n",
       "      <td>50</td>\n",
       "      <td>25.00</td>\n",
       "      <td>28</td>\n",
       "    </tr>\n",
       "    <tr>\n",
       "      <th>19998</th>\n",
       "      <td>10807</td>\n",
       "      <td>31504</td>\n",
       "      <td>Different story world</td>\n",
       "      <td>J. K. Rowling - Harry Potter and the Sorcerer'...</td>\n",
       "      <td>4.0</td>\n",
       "      <td>0.0</td>\n",
       "      <td>M</td>\n",
       "      <td>Books</td>\n",
       "      <td>36</td>\n",
       "      <td>96.00</td>\n",
       "      <td>27</td>\n",
       "    </tr>\n",
       "    <tr>\n",
       "      <th>19999</th>\n",
       "      <td>10808</td>\n",
       "      <td>10200</td>\n",
       "      <td>Boldly Displaying Sigourneys Cleavage ..</td>\n",
       "      <td>Galaxy Quest</td>\n",
       "      <td>4.0</td>\n",
       "      <td>0.0</td>\n",
       "      <td>M</td>\n",
       "      <td>Movies</td>\n",
       "      <td>29</td>\n",
       "      <td>67.00</td>\n",
       "      <td>11</td>\n",
       "    </tr>\n",
       "  </tbody>\n",
       "</table>\n",
       "<p>19916 rows × 11 columns</p>\n",
       "</div>"
      ],
      "text/plain": [
       "       userId  timestamp                                    review  \\\n",
       "0        4051      12807                 Great job for what it is!   \n",
       "1        4052     122899               Free Access Worth your Time   \n",
       "2          33      12700             AOL..I love you!!!!!!!!!!!!     \n",
       "3          33      21000              EBAY!!!  I LOVE YOU!!!! :-)*   \n",
       "4          33      22300           Blair Witch...Oh Come On.......   \n",
       "...       ...        ...                                       ...   \n",
       "19995   10805      50600                 The Upper Class Fast Food   \n",
       "19996   10806      82201             What more can you ask for????   \n",
       "19997   10806      82201          Excellent steak for a good price   \n",
       "19998   10807      31504                     Different story world   \n",
       "19999   10808      10200  Boldly Displaying Sigourneys Cleavage ..   \n",
       "\n",
       "                                                    item  rating  helpfulness  \\\n",
       "0                                                   eBay     5.0          2.0   \n",
       "1                                                NetZero     5.0          0.0   \n",
       "2                                   AOL (America Online)     5.0          4.0   \n",
       "3                                                   eBay     5.0          4.0   \n",
       "4                                    Blair Witch Project     1.0          4.0   \n",
       "...                                                  ...     ...          ...   \n",
       "19995                                            Wendy's     2.0          3.0   \n",
       "19996                                       Olive Garden     4.0          0.0   \n",
       "19997                                 Outback Steakhouse     4.0          3.0   \n",
       "19998  J. K. Rowling - Harry Potter and the Sorcerer'...     4.0          0.0   \n",
       "19999                                       Galaxy Quest     4.0          0.0   \n",
       "\n",
       "      gender                  category  item_id  item_price  user_city  \n",
       "0          F  Online Stores & Services       88      149.00         39  \n",
       "1          F  Online Stores & Services       46       53.00         39  \n",
       "2          F  Online Stores & Services        0      145.84         31  \n",
       "3          F  Online Stores & Services       88      149.00         31  \n",
       "4          F                    Movies       12       44.00         31  \n",
       "...      ...                       ...      ...         ...        ...  \n",
       "19995      F     Restaurants & Gourmet       84       69.00         18  \n",
       "19996      M     Restaurants & Gourmet       49       32.00         28  \n",
       "19997      M     Restaurants & Gourmet       50       25.00         28  \n",
       "19998      M                     Books       36       96.00         27  \n",
       "19999      M                    Movies       29       67.00         11  \n",
       "\n",
       "[19916 rows x 11 columns]"
      ]
     },
     "execution_count": 13,
     "metadata": {},
     "output_type": "execute_result"
    }
   ],
   "source": [
    "#Removing the missing data\n",
    "clean_dS = ecom.dropna()\n",
    "clean_ds = clean_dS[clean_dS['review'] != 'none']\n",
    "clean_ds"
   ]
  },
  {
   "cell_type": "code",
   "execution_count": 14,
   "id": "929e4895",
   "metadata": {},
   "outputs": [
    {
     "name": "stdout",
     "output_type": "stream",
     "text": [
      "19916\n"
     ]
    }
   ],
   "source": [
    "#Printing length of the dataset after removing missing values\n",
    "print(len(clean_ds))"
   ]
  },
  {
   "cell_type": "markdown",
   "id": "70e0ddc8",
   "metadata": {},
   "source": [
    "#### Q2. Descriptive statistics\n",
    "\n",
    "With the cleaned data in Q1, please provide the data summarization as below:\n",
    "\n",
    "* Q2.1 total number of unique users, unique reviews, unique items, and unique categories\n",
    "* Q2.2 descriptive statistics, e.g., the total number, mean, std, min and max regarding all rating records\n",
    "* Q2.3 descriptive statistics, e.g., mean, std, max, and min of the number of items rated by different genders \n",
    "* Q2.4 descriptive statistics, e.g., mean, std, max, min of the number of ratings that received by each items \n"
   ]
  },
  {
   "cell_type": "code",
   "execution_count": 15,
   "id": "b291bbda",
   "metadata": {},
   "outputs": [
    {
     "name": "stdout",
     "output_type": "stream",
     "text": [
      "Total number of unique users :  8562\n",
      "Total number of unique reviews :  19459\n",
      "Total number of unique items :  89\n",
      "Total number of unique categories :  9\n"
     ]
    }
   ],
   "source": [
    "#creating data frame unique_user list\n",
    "unique_users = clean_ds['userId'].unique()\n",
    "unique_reviews = clean_ds['review'].unique()\n",
    "unique_items = clean_ds['item'].unique()\n",
    "unique_category = clean_ds['category'].unique()\n",
    "\n",
    "#printing length of unique users, reviews, items and category list\n",
    "print(\"Total number of unique users : \",len(unique_users))\n",
    "print(\"Total number of unique reviews : \",len(unique_reviews))\n",
    "print(\"Total number of unique items : \",len(unique_items))\n",
    "print(\"Total number of unique categories : \",len(unique_category))"
   ]
  },
  {
   "cell_type": "code",
   "execution_count": 16,
   "id": "54ccaca1",
   "metadata": {},
   "outputs": [
    {
     "data": {
      "text/plain": [
       "count    19916.000000\n",
       "mean         3.701798\n",
       "std          1.404451\n",
       "min          1.000000\n",
       "25%          3.000000\n",
       "50%          4.000000\n",
       "75%          5.000000\n",
       "max          5.000000\n",
       "Name: rating, dtype: float64"
      ]
     },
     "execution_count": 16,
     "metadata": {},
     "output_type": "execute_result"
    }
   ],
   "source": [
    "#Q2.2 descriptive statistics, e.g., the total number, mean, std, min and max regarding all rating records\n",
    "des_rating = clean_ds['rating'].describe()\n",
    "des_rating"
   ]
  },
  {
   "cell_type": "code",
   "execution_count": 17,
   "id": "321a7cc1",
   "metadata": {},
   "outputs": [],
   "source": [
    "#Q2.3 descriptive statistics, e.g., mean, std, max, and min of the number of items rated by different genders\n",
    "# group function how many male and how many females and count function and last describe function"
   ]
  },
  {
   "cell_type": "code",
   "execution_count": 18,
   "id": "ad14683c",
   "metadata": {},
   "outputs": [
    {
     "data": {
      "text/plain": [
       "count        2.000000\n",
       "mean      9958.000000\n",
       "std        233.345238\n",
       "min       9793.000000\n",
       "25%       9875.500000\n",
       "50%       9958.000000\n",
       "75%      10040.500000\n",
       "max      10123.000000\n",
       "Name: item, dtype: float64"
      ]
     },
     "execution_count": 18,
     "metadata": {},
     "output_type": "execute_result"
    }
   ],
   "source": [
    "num_of_male = clean_ds.groupby(clean_ds['gender'] == 'M').item.count().describe()\n",
    "num_of_female = clean_ds.groupby(clean_ds['gender'] == 'F').item.count().describe()\n",
    "#for male \n",
    "num_of_male"
   ]
  },
  {
   "cell_type": "code",
   "execution_count": 19,
   "id": "8b09efed",
   "metadata": {},
   "outputs": [
    {
     "data": {
      "text/plain": [
       "count        2.000000\n",
       "mean      9958.000000\n",
       "std        233.345238\n",
       "min       9793.000000\n",
       "25%       9875.500000\n",
       "50%       9958.000000\n",
       "75%      10040.500000\n",
       "max      10123.000000\n",
       "Name: item, dtype: float64"
      ]
     },
     "execution_count": 19,
     "metadata": {},
     "output_type": "execute_result"
    }
   ],
   "source": [
    "#for female\n",
    "num_of_female"
   ]
  },
  {
   "cell_type": "code",
   "execution_count": 20,
   "id": "ba78e3ec",
   "metadata": {},
   "outputs": [
    {
     "data": {
      "text/plain": [
       "count    442.000000\n",
       "mean      45.058824\n",
       "std       48.011537\n",
       "min        1.000000\n",
       "25%       15.000000\n",
       "50%       32.000000\n",
       "75%       56.000000\n",
       "max      334.000000\n",
       "Name: rating, dtype: float64"
      ]
     },
     "execution_count": 20,
     "metadata": {},
     "output_type": "execute_result"
    }
   ],
   "source": [
    "#Q2.4 descriptive statistics, e.g., mean, std, max, min of the number of ratings that received by each items\n",
    "clean_ds.groupby(clean_ds['item']).rating.value_counts().describe()"
   ]
  },
  {
   "cell_type": "markdown",
   "id": "3f0d57c7",
   "metadata": {},
   "source": [
    "#### Q3. Plotting and Analysis\n",
    "\n",
    "Please try to explore the correlation between gender/helpfulness/category and ratings; for instance, do female/male users tend to provide higher ratings than male/female users? Hint: you may use the boxplot function to plot figures for comparison (___Challenge___)\n",
    "    \n",
    "You may need to select the most suitable graphic forms for ease of presentation. Most importantly, for each figure or subfigure, please summarise ___what each plot shows___ (i.e. observations and explanations). Finally, you may need to provide an overall summary of the data."
   ]
  },
  {
   "cell_type": "code",
   "execution_count": 21,
   "id": "9f52c80b",
   "metadata": {
    "scrolled": true
   },
   "outputs": [
    {
     "data": {
      "image/png": "[encoded data removed]",
      "text/plain": [
       "<Figure size 500x300 with 1 Axes>"
      ]
     },
     "metadata": {},
     "output_type": "display_data"
    }
   ],
   "source": [
    "#grouped1 = clean_ds.groupby('gender')['rating'].apply(list)\n",
    "\n",
    "# Create a boxplot using Matplotlib\n",
    "plt.figure(figsize = (5, 3))\n",
    "plt.xlabel('gender' , size = 18)\n",
    "plt.ylabel('Rating' , size = 18)\n",
    "plt.title('Boxplot of Ratings by Gender', size = 24)\n",
    "sns.boxplot(x = 'gender', y = 'rating', data = clean_ds)\n",
    "plt.show()"
   ]
  },
  {
   "cell_type": "markdown",
   "id": "e2f62485",
   "metadata": {},
   "source": [
    "- This rating by gender boxplot shows similar center line lower whisker that means both share same distribution."
   ]
  },
  {
   "cell_type": "code",
   "execution_count": 22,
   "id": "e01aa368",
   "metadata": {},
   "outputs": [
    {
     "data": {
      "image/png": "[encoded data removed]",
      "text/plain": [
       "<Figure size 1500x500 with 1 Axes>"
      ]
     },
     "metadata": {},
     "output_type": "display_data"
    }
   ],
   "source": [
    "# Create a boxplot using Matplotlib\n",
    "plt.figure(figsize = (15, 5))\n",
    "plt.ylabel('Rating' , size = 18)\n",
    "plt.xlabel('helpfulness' , size = 18)\n",
    "plt.title('Boxplot of Ratings by Helpfulness', size = 24)\n",
    "sns.boxplot(x = 'helpfulness', y = 'rating', data = clean_ds)\n",
    "plt.show()"
   ]
  },
  {
   "cell_type": "markdown",
   "id": "faa01f36",
   "metadata": {},
   "source": [
    "- This rating by helpfulness box plot shows blue, orange, red and violet color which are 0, 1, 3, 4 rating share similar distribution except the green one."
   ]
  },
  {
   "cell_type": "code",
   "execution_count": 30,
   "id": "b8bbd426",
   "metadata": {},
   "outputs": [
    {
     "data": {
      "image/png": "[encoded data removed]",
      "text/plain": [
       "<Figure size 1800x300 with 1 Axes>"
      ]
     },
     "metadata": {},
     "output_type": "display_data"
    }
   ],
   "source": [
    "# Create a boxplot using Matplotlib\n",
    "plt.figure(figsize = (18, 3))\n",
    "plt.ylabel('Rating' , size = 18)\n",
    "plt.xlabel('Category' , size = 18)\n",
    "plt.title('Boxplot of Ratings by Category', size = 24)\n",
    "plt.xticks(rotation = 45)\n",
    "sns.boxplot(x = 'category', y = 'rating', data = clean_ds)\n",
    "plt.show()"
   ]
  },
  {
   "cell_type": "markdown",
   "id": "4a1702c0",
   "metadata": {},
   "source": [
    "- This rating by category box plot shows  online stores and services, Restaurants and Gourmet, Personal Finance, Kids & Family, Hotels & Travels data share similar distribution but Movies 25 % data is diffrent from the mentioned data. Box plot of Media data shows upper whisker distribution which is completely different from other data. Games data shows two outlier and books shows 4 outliers by the dots."
   ]
  },
  {
   "cell_type": "markdown",
   "id": "d974a134",
   "metadata": {},
   "source": [
    "#### Q4. Detect and remove outliers\n",
    "\n",
    "We may define outlier users, reviews and items with three rules (if a record meets one of the rules, it is regarded as an outlier):\n",
    "\n",
    "* reviews of which the helpfulness is no more than 2\n",
    "* users who rate less than 7 items\n",
    "* items that receives less than 11 ratings \n",
    " \n",
    "Please remove the corresponding records in the csv file that involves outlier users, reviews and items. After that, __print the length of the data__."
   ]
  },
  {
   "cell_type": "code",
   "execution_count": 25,
   "id": "025722c7",
   "metadata": {},
   "outputs": [
    {
     "name": "stdout",
     "output_type": "stream",
     "text": [
      "19916\n"
     ]
    }
   ],
   "source": [
    "#printing length of data frame before removing outliers\n",
    "print(len(clean_ds))"
   ]
  },
  {
   "cell_type": "code",
   "execution_count": 26,
   "id": "4c3235e2",
   "metadata": {},
   "outputs": [
    {
     "name": "stdout",
     "output_type": "stream",
     "text": [
      "Cleaned DataFrame:\n",
      "       userId  timestamp                                           review  \\\n",
      "78       4081      71900                                Not always McCrap   \n",
      "80       4081      72000  I dropped the chalupa even before he told me to   \n",
      "81       4081      72000                     The Wonderful World of Wendy   \n",
      "82       4081     100399                             They actually did it   \n",
      "83       4081     100399                             Hey! Gimme some pie!   \n",
      "...       ...        ...                                              ...   \n",
      "19983    2445      22000                                     Great movie!   \n",
      "19985    2445      30700                                       Good food!   \n",
      "19988    2445      61500                                     Great movie!   \n",
      "19989    2445     100500                                    Awesome Game.   \n",
      "19990    2445     101400                                   Great Service.   \n",
      "\n",
      "                                            item  rating  helpfulness gender  \\\n",
      "78                                    McDonald's     4.0          3.0      M   \n",
      "80                                     Taco Bell     1.0          4.0      M   \n",
      "81                                       Wendy's     5.0          4.0      M   \n",
      "82            South Park: Bigger, Longer & Uncut     5.0          3.0      M   \n",
      "83                                  American Pie     3.0          3.0      M   \n",
      "...                                          ...     ...          ...    ...   \n",
      "19983      Austin Powers: The Spy Who Shagged Me     5.0          3.0      M   \n",
      "19985                         Outback Steakhouse     5.0          3.0      M   \n",
      "19988                                 Fight Club     5.0          3.0      M   \n",
      "19989  The Sims 2: Open for Business for Windows     5.0          4.0      M   \n",
      "19990                                     PayPal     5.0          3.0      M   \n",
      "\n",
      "                    category  item_id  item_price  user_city  \n",
      "78     Restaurants & Gourmet       41       30.74          4  \n",
      "80     Restaurants & Gourmet       74      108.30          4  \n",
      "81     Restaurants & Gourmet       84       69.00          4  \n",
      "82                    Movies       68      143.11          4  \n",
      "83                    Movies        6      117.89          4  \n",
      "...                      ...      ...         ...        ...  \n",
      "19983                 Movies        9      111.00          5  \n",
      "19985  Restaurants & Gourmet       50       25.00          5  \n",
      "19988                 Movies       26       97.53          5  \n",
      "19989                  Games       79       27.00          5  \n",
      "19990       Personal Finance       52       38.00          5  \n",
      "\n",
      "[2741 rows x 11 columns]\n"
     ]
    }
   ],
   "source": [
    "# Removing outlier reviews\n",
    "clean_data = clean_ds[clean_ds['helpfulness'] > 2]\n",
    "\n",
    "# Counting user and item ratings\n",
    "user_counts = clean_data['userId'].value_counts()\n",
    "item_counts = clean_data['item'].value_counts()\n",
    "\n",
    "# Removing outlier users\n",
    "outlier_users = user_counts[user_counts < 7].index.tolist()\n",
    "new_df = clean_data[~clean_data['userId'].isin(outlier_users)]\n",
    "\n",
    "# Removing outlier items\n",
    "outlier_items = item_counts[item_counts < 11].index.tolist()\n",
    "desired_ds = new_df[~new_df['item'].isin(outlier_items)]\n",
    "\n",
    "print(\"Cleaned DataFrame:\")\n",
    "print(desired_ds)"
   ]
  },
  {
   "cell_type": "code",
   "execution_count": 27,
   "id": "9a9db073",
   "metadata": {},
   "outputs": [
    {
     "name": "stdout",
     "output_type": "stream",
     "text": [
      "2741\n"
     ]
    }
   ],
   "source": [
    "#printing the length of data after removing outliers\n",
    "print(len(desired_ds))"
   ]
  }
 ],
 "metadata": {
  "kernelspec": {
   "display_name": "Python 3 (ipykernel)",
   "language": "python",
   "name": "python3"
  },
  "language_info": {
   "codemirror_mode": {
    "name": "ipython",
    "version": 3
   },
   "file_extension": ".py",
   "mimetype": "text/x-python",
   "name": "python",
   "nbconvert_exporter": "python",
   "pygments_lexer": "ipython3",
   "version": "3.10.9"
  }
 },
 "nbformat": 4,
 "nbformat_minor": 5
}
